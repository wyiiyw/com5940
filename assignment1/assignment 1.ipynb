{
 "cells": [
  {
   "cell_type": "code",
   "execution_count": 11,
   "metadata": {
    "scrolled": true
   },
   "outputs": [
    {
     "name": "stdout",
     "output_type": "stream",
     "text": [
      "Requirement already satisfied: PyMySQL in /Users/yujiewang/opt/anaconda3/lib/python3.7/site-packages (0.9.3)\r\n"
     ]
    }
   ],
   "source": [
    "!pip install PyMySQL"
   ]
  },
  {
   "cell_type": "code",
   "execution_count": 12,
   "metadata": {},
   "outputs": [],
   "source": [
    "import pymysql.cursors\n",
    "connection = pymysql.connect(host=\"localhost\", \n",
    "                     user=\"root\",   \n",
    "                     passwd=\"root\", \n",
    "                     db=\"assignment 1\",   \n",
    "                     charset='utf8mb4',\n",
    "                     cursorclass=pymysql.cursors.DictCursor)"
   ]
  },
  {
   "cell_type": "code",
   "execution_count": 13,
   "metadata": {},
   "outputs": [
    {
     "name": "stdout",
     "output_type": "stream",
     "text": [
      "\n",
      "\n",
      "[{'me': 'Ed Sheeran', 'price': '$775,046,937', 'The_same_type_artist': '÷ Tour', 'amount': '8,796,567', 'artist_artist_averageattdance': '34,496'}, {'me': 'U2', 'price': '$736,421,584', 'The_same_type_artist': 'U2 360° Tour', 'amount': '7,272,046', 'artist_artist_averageattdance': '66,110'}, {'me': \"Guns N' Roses\", 'price': '$563,300,000', 'The_same_type_artist': 'Not in This Lifetime... Tour', 'amount': '4,377,126', 'artist_artist_averageattdance': '35,017'}, {'me': 'The Rolling Stones', 'price': '$558,255,524', 'The_same_type_artist': 'A Bigger Bang Tour', 'amount': '4,680,000', 'artist_artist_averageattdance': '32,500'}, {'me': 'Coldplay', 'price': '$523,033,675', 'The_same_type_artist': 'A Head Full of Dreams Tour', 'amount': '5,389,586', 'artist_artist_averageattdance': '45,128'}, {'me': 'Roger Waters', 'price': '$458,673,798', 'The_same_type_artist': 'The Wall Live', 'amount': '4,129,863', 'artist_artist_averageattdance': '18,858'}, {'me': 'AC/DC', 'price': '$441,121,000', 'The_same_type_artist': 'Black Ice World Tour', 'amount': '4,846,965', 'artist_artist_averageattdance': '29,023'}, {'me': 'The Rolling Stones', 'price': '$416', 'The_same_type_artist': 'No Filter Tour', 'amount': '2,290,871', 'artist_artist_averageattdance': '50,909'}, {'me': 'Metallica', 'price': '$414,450,000', 'The_same_type_artist': 'WorldWired Tour', 'amount': '4,055,397', 'artist_artist_averageattdance': '29,175'}, {'me': 'Madonna', 'price': '$407,713,266', 'The_same_type_artist': 'Sticky & Sweet Tour', 'amount': '3,545,899', 'artist_artist_averageattdance': '41,716'}, {'me': 'Pink', 'price': '$397,300', 'The_same_type_artist': 'Beautiful Trauma World Tour', 'amount': '3,088,647', 'artist_artist_averageattdance': '19,799'}, {'me': 'U2', 'price': '$389,047,636', 'The_same_type_artist': 'Vertigo Tour', 'amount': '4,619,021', 'artist_artist_averageattdance': '35,259'}, {'me': 'Bruno Mars', 'price': '$375,828,391', 'The_same_type_artist': '24K Magic World Tour', 'amount': '3,298,583', 'artist_artist_averageattdance': '16.12'}, {'me': 'Garth Brooks', 'price': '$364,300,000', 'The_same_type_artist': 'World Tour', 'amount': '6,443,727', 'artist_artist_averageattdance': '14,669'}, {'me': 'The Police', 'price': '$362,000,000', 'The_same_type_artist': 'The Police Reunion Tour', 'amount': '3,300,912', 'artist_artist_averageattdance': '23,083'}, {'me': 'Bruce Springsteen and the E Street Band', 'price': '$355,600,000', 'The_same_type_artist': 'Wrecking Ball World Tour', 'amount': '3,650,535', 'artist_artist_averageattdance': '18,744'}, {'me': 'Taylor Swift', 'price': '$345,700,000', 'The_same_type_artist': \"Taylor Swift's Reputation Stadium Tour\", 'amount': '2,888,892', 'artist_artist_averageattdance': '54,507'}, {'me': 'The Rolling Stones', 'price': '$320,000,000', 'The_same_type_artist': 'Voodoo Lounge Tour', 'amount': '6,336,776', 'artist_artist_averageattdance': '51,103'}, {'me': 'U2', 'price': '$316,990,940', 'The_same_type_artist': 'The Joshua Tree Tour 2017', 'amount': '2,713,136', 'artist_artist_averageattdance': '53,198'}, {'me': 'The Rolling Stones', 'price': '$311,000,000', 'The_same_type_artist': 'Licks Tour', 'amount': '3,470,945', 'artist_artist_averageattdance': '30,182'}, {'me': 'Bruce Springsteen and the E Street Band', 'price': '$306,500,000', 'The_same_type_artist': 'The River Tour 2016', 'amount': '2,667,775', 'artist_artist_averageattdance': '29,020'}]\n",
      "\n",
      "\n"
     ]
    }
   ],
   "source": [
    "with connection.cursor() as cursor:\n",
    "        sql = \"SELECT * FROM TABLE2\"\n",
    "        cursor.execute(sql)\n",
    "        result = cursor.fetchall()\n",
    "        dataset = []\n",
    "        temp = {}\n",
    "        i = 0\n",
    "        for row in result:\n",
    "            temp[i] = row\n",
    "            dataset.append(temp[i])\n",
    "            i = i + 1\n",
    "        print('\\n')\n",
    "        print(dataset)\n",
    "        print('\\n')\n"
   ]
  },
  {
   "cell_type": "code",
   "execution_count": null,
   "metadata": {},
   "outputs": [],
   "source": [
    "!pip install requests"
   ]
  },
  {
   "cell_type": "code",
   "execution_count": 1,
   "metadata": {},
   "outputs": [
    {
     "name": "stdout",
     "output_type": "stream",
     "text": [
      "[{'Name': 'Ed Sheeran', 'price': 775046937, 'The_same_type_artist': '÷ Tour', 'amount': '8,796,567', 'artist_artist_averageattdance': '34,496'}, {'Name': 'U2', 'price': 736421584, 'The_same_type_artist': 'U2 360° Tour', 'amount': '7,272,046', 'artist_artist_averageattdance': '66,110'}, {'Name': \"Guns N' Roses\", 'price': 563300000, 'The_same_type_artist': 'Not in This Lifetime... Tour', 'amount': '4,377,126', 'artist_artist_averageattdance': '35,017'}, {'Name': 'The Rolling Stones', 'price': 558255524, 'The_same_type_artist': 'A Bigger Bang Tour', 'amount': '4,680,000', 'artist_artist_averageattdance': '32,500'}, {'Name': 'Coldplay', 'price': 523033675, 'The_same_type_artist': 'A Head Full of Dreams Tour', 'amount': '5,389,586', 'artist_artist_averageattdance': '45,128'}, {'Name': 'Roger Waters', 'price': 458673798, 'The_same_type_artist': 'The Wall Live', 'amount': '4,129,863', 'artist_artist_averageattdance': '18,858'}, {'Name': 'AC/DC', 'price': 441121000, 'The_same_type_artist': 'Black Ice World Tour', 'amount': '4,846,965', 'artist_artist_averageattdance': '29,023'}, {'Name': 'The Rolling Stones', 'price': 416, 'The_same_type_artist': 'No Filter Tour', 'amount': '2,290,871', 'artist_artist_averageattdance': '50,909'}, {'Name': 'Metallica', 'price': 414450000, 'The_same_type_artist': 'WorldWired Tour', 'amount': '4,055,397', 'artist_artist_averageattdance': '29,175'}, {'Name': 'Madonna', 'price': 407713266, 'The_same_type_artist': 'Sticky & Sweet Tour', 'amount': '3,545,899', 'artist_artist_averageattdance': '41,716'}, {'Name': 'Pink', 'price': 397300, 'The_same_type_artist': 'Beautiful Trauma World Tour', 'amount': '3,088,647', 'artist_artist_averageattdance': '19,799'}, {'Name': 'U2', 'price': 389047636, 'The_same_type_artist': 'Vertigo Tour', 'amount': '4,619,021', 'artist_artist_averageattdance': '35,259'}, {'Name': 'Bruno Mars', 'price': 375828391, 'The_same_type_artist': '24K Magic World Tour', 'amount': '3,298,583', 'artist_artist_averageattdance': '16.12'}, {'Name': 'Garth Brooks', 'price': 364300000, 'The_same_type_artist': 'World Tour', 'amount': '6,443,727', 'artist_artist_averageattdance': '14,669'}, {'Name': 'The Police', 'price': 362000000, 'The_same_type_artist': 'The Police Reunion Tour', 'amount': '3,300,912', 'artist_artist_averageattdance': '23,083'}, {'Name': 'Bruce Springsteen and the E Street Band', 'price': 355600000, 'The_same_type_artist': 'Wrecking Ball World Tour', 'amount': '3,650,535', 'artist_artist_averageattdance': '18,744'}, {'Name': 'Taylor Swift', 'price': 345700000, 'The_same_type_artist': \"Taylor Swift's Reputation Stadium Tour\", 'amount': '2,888,892', 'artist_artist_averageattdance': '54,507'}, {'Name': 'The Rolling Stones', 'price': 320000000, 'The_same_type_artist': 'Voodoo Lounge Tour', 'amount': '6,336,776', 'artist_artist_averageattdance': '51,103'}, {'Name': 'U2', 'price': 316990940, 'The_same_type_artist': 'The Joshua Tree Tour 2017', 'amount': '2,713,136', 'artist_artist_averageattdance': '53,198'}, {'Name': 'The Rolling Stones', 'price': 311000000, 'The_same_type_artist': 'Licks Tour', 'amount': '3,470,945', 'artist_artist_averageattdance': '30,182'}, {'Name': 'Bruce Springsteen and the E Street Band', 'price': 306500000, 'The_same_type_artist': 'The River Tour 2016', 'amount': '2,667,775', 'artist_artist_averageattdance': '29,020'}]\n",
      "\n",
      "\n",
      "[None, None, None, None, None, None, None, None, None, None, None, None, None, None, None, None, None, None, None, None, None]\n"
     ]
    }
   ],
   "source": [
    "import requests\n",
    "\n",
    "headers = {\n",
    "'Authorization': 'Bearer key2uwrms0Q8wkXEY',\n",
    "}\n",
    "\n",
    "params = (\n",
    "('view', 'Grid view'),\n",
    ")\n",
    "\n",
    "r = requests.get('https://api.airtable.com/v0/appMVqVQA38Q0p5gm/Imported%20table?api_key=key2uwrms0Q8wkXEY', headers=headers, params=params)\n",
    "dict = r.json()\n",
    "dataset = []\n",
    "me = []\n",
    "price = []\n",
    "The_same_type_artist = []\n",
    "amount = []\n",
    "artist_artist_averageattdance = []\n",
    "for i in dict['records']:\n",
    "     dict = i['fields']\n",
    "     dataset.append(dict)\n",
    "print(dataset)\n",
    "print('\\n')\n",
    "for dicts in dataset:\n",
    "    me.append(dicts.get('me'))\n",
    "    price.append(dicts.get('price'))\n",
    "    The_same_type_artist.append(dicts.get('The_same_type_artist'))\n",
    "    amount.append(dicts.get('amount'))\n",
    "    artist_artist_averageattdance.append(dicts.get('artist_artist_averageattdance'))\n",
    "print(me)"
   ]
  },
  {
   "cell_type": "code",
   "execution_count": null,
   "metadata": {},
   "outputs": [],
   "source": []
  }
 ],
 "metadata": {
  "kernelspec": {
   "display_name": "Python 3",
   "language": "python",
   "name": "python3"
  },
  "language_info": {
   "codemirror_mode": {
    "name": "ipython",
    "version": 3
   },
   "file_extension": ".py",
   "mimetype": "text/x-python",
   "name": "python",
   "nbconvert_exporter": "python",
   "pygments_lexer": "ipython3",
   "version": "3.7.4"
  }
 },
 "nbformat": 4,
 "nbformat_minor": 2
}
