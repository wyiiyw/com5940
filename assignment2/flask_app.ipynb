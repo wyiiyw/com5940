{
 "cells": [
  {
   "cell_type": "code",
   "execution_count": null,
   "metadata": {},
   "outputs": [
    {
     "name": "stderr",
     "output_type": "stream",
     "text": [
      " * Running on http://localhost:9002/ (Press CTRL+C to quit)\n",
      "127.0.0.1 - - [24/Feb/2020 22:32:26] \"GET / HTTP/1.1\" 200 -\n",
      "127.0.0.1 - - [24/Feb/2020 22:32:36] \"GET /favicon.ico HTTP/1.1\" 404 -\n",
      "127.0.0.1 - - [24/Feb/2020 22:47:56] \"GET / HTTP/1.1\" 200 -\n"
     ]
    }
   ],
   "source": [
    "from flask import Flask, render_template\n",
    "import requests\n",
    "\n",
    "\n",
    "app = Flask(__name__)\n",
    "\n",
    "@app.route(\"/\")\n",
    "def home():\n",
    "    user = {\"name\":\"arena\"}\n",
    "    headers = {'Authorization': 'Bearer key2uwrms0Q8wkXEY',}\n",
    "    params = (('view', 'Grid view'),)\n",
    "\n",
    "    r = requests.get('https://api.airtable.com/v0/appmlmqb09qsQG6MJ/Table%201?api_key=key2uwrms0Q8wkXEY', headers=headers, params=params)\n",
    "    dict = r.json()\n",
    "    dataset = []\n",
    "    \n",
    "    for i in dict['records']:\n",
    "         dict = i['fields']\n",
    "         dataset.append(dict)\n",
    "    return render_template('home.html',album_user=user, dataset=dataset)\n",
    "\n",
    "if __name__ == '__main__':\n",
    "    from werkzeug.serving import run_simple\n",
    "    run_simple('localhost', 9002, app)"
   ]
  },
  {
   "cell_type": "code",
   "execution_count": null,
   "metadata": {},
   "outputs": [],
   "source": []
  }
 ],
 "metadata": {
  "kernelspec": {
   "display_name": "Python 3",
   "language": "python",
   "name": "python3"
  },
  "language_info": {
   "codemirror_mode": {
    "name": "ipython",
    "version": 3
   },
   "file_extension": ".py",
   "mimetype": "text/x-python",
   "name": "python",
   "nbconvert_exporter": "python",
   "pygments_lexer": "ipython3",
   "version": "3.7.4"
  }
 },
 "nbformat": 4,
 "nbformat_minor": 2
}
